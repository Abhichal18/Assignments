{
 "cells": [
  {
   "cell_type": "markdown",
   "metadata": {},
   "source": [
    "# 1 - Print Diamond of Height H"
   ]
  },
  {
   "cell_type": "code",
   "execution_count": 6,
   "metadata": {
    "scrolled": true
   },
   "outputs": [
    {
     "name": "stdout",
     "output_type": "stream",
     "text": [
      "Enter the height of Diamond: 9\n",
      "    *\n",
      "   * *\n",
      "  *   *\n",
      " *     *\n",
      "*       *\n",
      " *     *\n",
      "  *   *\n",
      "   * *\n",
      "    *\n"
     ]
    }
   ],
   "source": [
    "from math import ceil\n",
    "# Taking the Height of Diamond from User \n",
    "height=int(input('Enter the height of Diamond: '))\n",
    "\n",
    "# checking if user is inputting the correct input, if not, printing Invalid Input\n",
    "if height<3:\n",
    "    print('Invalid Input')\n",
    "else:\n",
    "    val=ceil(height/2)-1\n",
    "    print(' '*(val)+'*')\n",
    "    \n",
    "    # for even size diamond\n",
    "    if height%2==0:\n",
    "        gap=1\n",
    "        for i in range((height-2)//2):\n",
    "            print(' '*(val-i-1)+'*'+' '*gap+'*')\n",
    "            gap+=2\n",
    "        gap=gap-2\n",
    "        for i in range((height-2)//2):\n",
    "            print(' '*i+'*'+' '*gap+'*')\n",
    "            gap-=2\n",
    "    # for even size diamond\n",
    "    else:\n",
    "        gap=1\n",
    "        for i in range(((height-2)//2)+1):\n",
    "            print(' '*(val-i-1)+'*'+' '*gap+'*')\n",
    "            gap+=2\n",
    "        gap-=4\n",
    "        for i in range((height-2)//2):\n",
    "            print(' '*(i+1)+'*'+' '*gap+'*')\n",
    "            gap-=2\n",
    "    print(' '*(ceil(height/2)-1)+'*')\n"
   ]
  },
  {
   "cell_type": "raw",
   "metadata": {},
   "source": [
    "Enter the height of Diamond: 9\n",
    "    *\n",
    "   * *\n",
    "  *   *\n",
    " *     *\n",
    "*       *\n",
    " *     *\n",
    "  *   *\n",
    "   * *\n",
    "    *"
   ]
  },
  {
   "cell_type": "markdown",
   "metadata": {},
   "source": [
    "# 2 - Terminate on -1"
   ]
  },
  {
   "cell_type": "code",
   "execution_count": 8,
   "metadata": {},
   "outputs": [
    {
     "name": "stdout",
     "output_type": "stream",
     "text": [
      "Enter the height of Diamond: 6\n",
      "  *\n",
      " * *\n",
      "*   *\n",
      "*   *\n",
      " * *\n",
      "  *\n",
      "Enter the height of Diamond: 5\n",
      "  *\n",
      " * *\n",
      "*   *\n",
      " * *\n",
      "  *\n",
      "Enter the height of Diamond: 4\n",
      " *\n",
      "* *\n",
      "* *\n",
      " *\n",
      "Enter the height of Diamond: 2\n",
      "Invalid Input\n",
      "Enter the height of Diamond: -1\n"
     ]
    }
   ],
   "source": [
    "from math import ceil\n",
    "# Creating an infinite loop which will not break until user hits -1\n",
    "while True:\n",
    "    # taking the height of diamond from user\n",
    "    height=int(input('Enter the height of Diamond: '))\n",
    "    \n",
    "    # if user hit -1 loop breaks and execution ends\n",
    "    if height==-1:\n",
    "        break\n",
    "    if height<3:\n",
    "        print('Invalid Input')\n",
    "    else:\n",
    "        val=ceil(height/2)-1\n",
    "        print(' '*(val)+'*')\n",
    "\n",
    "        # for even size diamond\n",
    "        if height%2==0:\n",
    "            gap=1\n",
    "            for i in range((height-2)//2):\n",
    "                print(' '*(val-i-1)+'*'+' '*gap+'*')\n",
    "                gap+=2\n",
    "            gap=gap-2\n",
    "            for i in range((height-2)//2):\n",
    "                print(' '*i+'*'+' '*gap+'*')\n",
    "                gap-=2\n",
    "        # for even size diamond\n",
    "        else:\n",
    "            gap=1\n",
    "            for i in range(((height-2)//2)+1):\n",
    "                print(' '*(val-i-1)+'*'+' '*gap+'*')\n",
    "                gap+=2\n",
    "            gap-=4\n",
    "            for i in range((height-2)//2):\n",
    "                print(' '*(i+1)+'*'+' '*gap+'*')\n",
    "                gap-=2\n",
    "        print(' '*(ceil(height/2)-1)+'*')"
   ]
  },
  {
   "cell_type": "raw",
   "metadata": {},
   "source": [
    "**Sample Input/Output:**\n",
    "\n",
    "Enter the height of Diamond: 6\n",
    "  *\n",
    " * *\n",
    "*   *\n",
    "*   *\n",
    " * *\n",
    "  *\n",
    "Enter the height of Diamond: 5\n",
    "  *\n",
    " * *\n",
    "*   *\n",
    " * *\n",
    "  *\n",
    "Enter the height of Diamond: 4\n",
    " *\n",
    "* *\n",
    "* *\n",
    " *\n",
    "Enter the height of Diamond: 2\n",
    "Invalid Input\n",
    "Enter the height of Diamond: -1"
   ]
  },
  {
   "cell_type": "markdown",
   "metadata": {},
   "source": [
    "# 3 - Print the concentric circles"
   ]
  },
  {
   "cell_type": "code",
   "execution_count": 12,
   "metadata": {},
   "outputs": [
    {
     "name": "stdout",
     "output_type": "stream",
     "text": [
      "3 5\n",
      "Center of Concentric Circles: O(0,0)\n",
      "Circle 1: radius = 5\n",
      "Circle 2: radius = 10\n",
      "Circle 3: radius = 15\n"
     ]
    }
   ],
   "source": [
    "# Taking the no of concentric circles and Radius difference betweeen two consecutive circles in space separated form\n",
    "C,R=map(int, input().split())\n",
    "\n",
    "print('Center of Concentric Circles: O(0,0)')\n",
    "# radius of First Circle\n",
    "counter=R\n",
    "# loop for printing C circles\n",
    "for i in range(C):\n",
    "    print('Circle '+str(i+1)+': radius = '+str(counter))\n",
    "    \n",
    "    # incrementing counter for every new circle because every new circle's radius is R more than the previous\n",
    "    counter+=R"
   ]
  },
  {
   "cell_type": "raw",
   "metadata": {},
   "source": [
    "**Sample Input/Output:**\n",
    "\n",
    "4 2\n",
    "Center of Concentric Circles: O(0,0)\n",
    "Circle 1: radius = 2\n",
    "Circle 2: radius = 4\n",
    "Circle 3: radius = 6\n",
    "Circle 4: radius = 8"
   ]
  },
  {
   "cell_type": "markdown",
   "metadata": {},
   "source": [
    "# 4 - Generating Random Lists"
   ]
  },
  {
   "cell_type": "code",
   "execution_count": 7,
   "metadata": {},
   "outputs": [
    {
     "name": "stdout",
     "output_type": "stream",
     "text": [
      "3 4\n",
      "List1 =  [8, 1, 2]\n",
      "List2 =  [10, 9, 7, 6]\n"
     ]
    }
   ],
   "source": [
    "# from random module importing randint for generating random numbers in list\n",
    "from random import randint\n",
    "\n",
    "# Taking sizes of both list by user in space separated form\n",
    "size_of_list1,size_of_list2=map(int, input().split())\n",
    "List1=[]\n",
    "\n",
    "for i in range(size_of_list1):\n",
    "    #apppending the random integers to list\n",
    "    List1.append(randint(0,10))\n",
    "List2=[]\n",
    "\n",
    "for i in range(size_of_list2):\n",
    "    #apppending the random integers to list\n",
    "    List2.append(randint(0,10))\n",
    "    \n",
    "print('List1 = ',str(List1))\n",
    "print('List2 = ',str(List2))"
   ]
  },
  {
   "cell_type": "raw",
   "metadata": {},
   "source": [
    "**Sample Input/Output:-**\n",
    "\n",
    "**1) When length of List1 is greter than length of List2**\n",
    "4 3\n",
    "List1 =  [6, 2, 3, 8]\n",
    "List2 =  [1, 2, 0]\n",
    "\n",
    "**2) When length of List1 is equal to length of List2**\n",
    "5 5\n",
    "List1 =  [5, 5, 8, 6, 5]\n",
    "List2 =  [5, 5, 6, 1, 3]\n",
    "\n",
    "**3) When length of List1 is smalller than length of List2**\n",
    "3 5\n",
    "List1 =  [8, 6, 4]\n",
    "List2 =  [9, 5, 7, 6, 6]"
   ]
  },
  {
   "cell_type": "markdown",
   "metadata": {},
   "source": [
    "# 5 - Average of Distance\n"
   ]
  },
  {
   "cell_type": "markdown",
   "metadata": {},
   "source": [
    "# i) One element is allowed to pair up with Multiple elements"
   ]
  },
  {
   "cell_type": "code",
   "execution_count": 9,
   "metadata": {},
   "outputs": [
    {
     "name": "stdout",
     "output_type": "stream",
     "text": [
      "Distance between two Lists = 3.33\n"
     ]
    }
   ],
   "source": [
    "# Initialize total difference to zero\n",
    "total_difference=0\n",
    "\n",
    "# sorting both arrays in descending order\n",
    "List1=sorted(List1,reverse=True)\n",
    "list2=sorted(List2,reverse=True)\n",
    "# Now, Iterate for every element in List1 to find it's pair in List2\n",
    "for i in List1:\n",
    "    # intialized the minimum to infinity, so when we get minimum value we can replace with it\n",
    "    minimum=float('inf')\n",
    "    \n",
    "    # iterating for every element in List2 for comparison with List1 element\n",
    "    for j in list2:\n",
    "        # finding the absolute difference betweeen the temporary pair\n",
    "        val=abs(i-j)\n",
    "        # if the calculated difference is minimum than the variable minimum we replace the value\n",
    "        if val<minimum:\n",
    "            minimum=val\n",
    "\n",
    "    # adding the minimum difference to total\n",
    "    total_difference+=minimum\n",
    "# printing the average by dividing total differnece from length of list1(i.e. number of elements)\n",
    "print('Distance between two Lists = '+str(round(total_difference/len(List1),2)))\n",
    "        "
   ]
  },
  {
   "cell_type": "raw",
   "metadata": {},
   "source": [
    "**Sample Input/Output:**\n",
    "\n",
    "**1) When length of List1 is greter than length of List2**\n",
    "Distance between two Lists = 2.75\n",
    "\n",
    "**2) When length of List1 is equal to length of List2**\n",
    "Distance between two Lists = 0.4\n",
    "\n",
    "**3) When length of List1 is smalller than length of List2**\n",
    "Distance between two Lists = 0.67"
   ]
  },
  {
   "cell_type": "markdown",
   "metadata": {},
   "source": [
    "# ii) one element is allowed to pair up with only one element"
   ]
  },
  {
   "cell_type": "code",
   "execution_count": 8,
   "metadata": {},
   "outputs": [
    {
     "name": "stdout",
     "output_type": "stream",
     "text": [
      "Distance between two Lists = 3.67\n"
     ]
    }
   ],
   "source": [
    "# This is an Special case when we can pair with one element only once\n",
    "# So, as we are finding the distance of list1 from list2 and mapping the elements of list1 to list2.\n",
    "# Here answer is possible only when length of list1 is less than or equal to length of list2.\n",
    "# This is because if length of list1 is greater than length of list2, we can not map each element of list1 to list2\n",
    "\n",
    "# THIS PROBLEM CAN ALSO BE SEEN AS ONE TO ONE FUNCTION PROBLEM, THAT'S WHY LIST1 CAN NOT HAVE LENGTH GREATER THAN LIST2 AS DOMAIN WILL BE GREATER THAN CODOMAIN\n",
    "\n",
    "# condition checking of length of lists\n",
    "if len(List1)<=len(List2):\n",
    "    \n",
    "    # sorting both arrays in descending order\n",
    "    List1=sorted(List1,reverse=True)\n",
    "    list2=sorted(List2,reverse=True)\n",
    "    # Initialize total difference to zero\n",
    "    total_difference=0\n",
    "    \n",
    "    # Now, Iterate for every element in List1 to find it's pair in List2\n",
    "    for i in List1:\n",
    "        \n",
    "        # intialized the minimum to infinity, so when we get minimum value we can replace with it\n",
    "        minimum=float('inf')\n",
    "        # with minimum_value variable we keep track of the value from which we get the minimum\n",
    "        minimum_value=-1\n",
    "        \n",
    "        # iterating for every element in List2 for comparison with List1 element\n",
    "        for j in list2:\n",
    "            \n",
    "            # finding the absolute difference betweeen the temporary pair\n",
    "            val=abs(i-j)\n",
    "            \n",
    "            # if the calculated difference is minimum than the variable minimum we replace the value of minimum as well as the minimum_value\n",
    "            if val<minimum:\n",
    "                minimum=val\n",
    "                minimum_value=j\n",
    "\n",
    "        # adding the minimum difference to total\n",
    "        total_difference+=minimum\n",
    "        # removing the minimum element of current iteration from List2 because we can pair up with one element once only\n",
    "        list2.remove(minimum_value)\n",
    "    \n",
    "    # printing the average by dividing total differnece from length of list1(i.e. number of elements)\n",
    "    print('Distance between two Lists = '+str(round(total_difference/len(List1),2)))\n",
    "else:\n",
    "    # This is because length of list1 is greater than length of list2\n",
    "    print('Not able to Map elements of List1 to List2 because Length of List1 is greater than List2.')\n",
    "    "
   ]
  },
  {
   "cell_type": "raw",
   "metadata": {},
   "source": [
    "**Sample Input/Output:-**\n",
    "\n",
    "**1) When length of List1 is greter than length of List2**\n",
    "Not able to Map elements of List1 to List2 because Length of List1 is greter than List2.\n",
    "\n",
    "**2) When length of List1 is equal to length of List2**\n",
    "Distance between two Lists = 1.8\n",
    "\n",
    "**3) When length of List1 is smalller than length of List2**\n",
    "Distance between two Lists = 0.67"
   ]
  }
 ],
 "metadata": {
  "kernelspec": {
   "display_name": "Python 3",
   "language": "python",
   "name": "python3"
  },
  "language_info": {
   "codemirror_mode": {
    "name": "ipython",
    "version": 3
   },
   "file_extension": ".py",
   "mimetype": "text/x-python",
   "name": "python",
   "nbconvert_exporter": "python",
   "pygments_lexer": "ipython3",
   "version": "3.8.2"
  }
 },
 "nbformat": 4,
 "nbformat_minor": 4
}
