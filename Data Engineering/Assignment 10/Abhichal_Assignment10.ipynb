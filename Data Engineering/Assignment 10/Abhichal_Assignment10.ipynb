{
 "cells": [
  {
   "cell_type": "markdown",
   "metadata": {},
   "source": [
    "# Q1. The GC-content of a DNA string is given by the percentage of symbols in the string that are 'C' or 'G'. For example, the GC-content of \"AGCTATAG\" is 37.5%. Note that the reverse complement of any DNA string has the same GC-content. Write a python function \"computeGCFromFASTA()\" to include below points.\n",
    "# Input to this function must be a FASTA file. Use folder GC_FASTA for the input files. Compute for all the four files. All the four files contain DNA sequence.\n"
   ]
  },
  {
   "cell_type": "markdown",
   "metadata": {},
   "source": [
    "i) Check and print the validity of the FASTA text file. If the file is invalid, clean it by removing the unwanted characters.<br>\n",
    "ii) Compute and print the length of the DNA sequence.<br>\n",
    "iii) Make a bar plot for the count of the Nucleotides.<br>\n",
    "iv) Print the GC Content as described above."
   ]
  },
  {
   "cell_type": "code",
   "execution_count": 137,
   "metadata": {},
   "outputs": [],
   "source": [
    "# importing the modules which we are gonna use in the assignment\n",
    "\n",
    "# importing matplotlib for visualization purpose\n",
    "import matplotlib.pyplot as plt\n",
    "\n",
    "# importing os for reading file form local computer\n",
    "import os\n",
    "#print(file)\n",
    "\n",
    "# defining a list of nucleotides\n",
    "nucleotides=['A','G','T','C']"
   ]
  },
  {
   "cell_type": "code",
   "execution_count": 138,
   "metadata": {},
   "outputs": [],
   "source": [
    "\n",
    "# check if a sequence is valid or not\n",
    "def isvalid(sequence):\n",
    "    # accessing the nucleotides array created above\n",
    "    global nucleotides\n",
    "    \n",
    "    # iterating for every nucleotide in the sequence\n",
    "    for i in sequence:\n",
    "        # uppercase of the vharacter not in nucleotides sequence is Invalid and return false\n",
    "        if i.upper() not in nucleotides:\n",
    "            return False\n",
    "    # if requence valid return true\n",
    "    return True\n"
   ]
  },
  {
   "cell_type": "code",
   "execution_count": 139,
   "metadata": {},
   "outputs": [],
   "source": [
    "# making the sequence valid\n",
    "def makevalid(string):\n",
    "    # accessing the nucleotides array created above\n",
    "    global nucleotides\n",
    "    \n",
    "    # this will store the new cleaned sequence\n",
    "    valid_string=''\n",
    "    \n",
    "    # for every nucleotide in the sequence\n",
    "    for i in range(len(string)):\n",
    "        # if the uppercase of character in nucleotide then append in the final string\n",
    "        if string[i].upper() in nucleotides:\n",
    "            valid_string+=string[i]\n",
    "            \n",
    "    # returning the cleaned string\n",
    "    return valid_string"
   ]
  },
  {
   "cell_type": "code",
   "execution_count": 140,
   "metadata": {},
   "outputs": [],
   "source": [
    "# computing the length of the sequence\n",
    "def len_of_sequence(string):\n",
    "    return len(string)"
   ]
  },
  {
   "cell_type": "code",
   "execution_count": 141,
   "metadata": {},
   "outputs": [],
   "source": [
    "# counting the count of different nucleotides\n",
    "def count_nucleotides(string):\n",
    "    \n",
    "    # creating a dictionary to store the nucleotides count\n",
    "    count_table=dict()\n",
    "    \n",
    "    # iterating for every nucleotide in the sequence\n",
    "    for i in string:\n",
    "        # if present in dictionary increment the count\n",
    "        if i in count_table:\n",
    "            count_table[i]+=1\n",
    "        # otherwises set the count to 1\n",
    "        else:\n",
    "            count_table[i]=1\n",
    "            \n",
    "    # returning the dictionary\n",
    "    return count_table"
   ]
  },
  {
   "cell_type": "code",
   "execution_count": 142,
   "metadata": {},
   "outputs": [],
   "source": [
    "# computing the gc_content for the sequence\n",
    "def gc_content(string):\n",
    "    # counting the count of 'G' and 'C' in sequence\n",
    "    count=0\n",
    "    \n",
    "    # iterating for every nucleotide in the sequence\n",
    "    for i in string:\n",
    "        # checking if element is 'G' or 'C'\n",
    "        if i.upper()=='G' or i.upper()=='C':\n",
    "            # incrementing the count\n",
    "            count+=1\n",
    "    \n",
    "    # calculating the gc_content percentage\n",
    "    ans=(count/len(string))*100\n",
    "    \n",
    "    # returning the gc_content values\n",
    "    return ans"
   ]
  },
  {
   "cell_type": "code",
   "execution_count": 145,
   "metadata": {},
   "outputs": [],
   "source": [
    "# main function which compute the Gc content from fasta and call other functions created above\n",
    "def computeGCFromFASTA(path):\n",
    "    # reading the file from the local computer\n",
    "    with open(path,encoding='utf8') as f:\n",
    "        # creating an empty string which store the sequence from txt file\n",
    "        string=''\n",
    "        # storing the sequence in a string \n",
    "        for i in f:\n",
    "            string+=i\n",
    "            \n",
    "    # checking if string is valid or not\n",
    "    if isvalid(string):\n",
    "        print('The Given text file is valid.')\n",
    "        #print(string)\n",
    "        \n",
    "    # if string is not valid making it valid\n",
    "    else:\n",
    "        print('The given text file is invalid.')\n",
    "        print('\\n\\nMaking the file valid.......')\n",
    "        print('\\n\\nValid file is Generated ')\n",
    "        string=makevalid(string)\n",
    "        #print(string)\n",
    "        \n",
    "    # computing the length of sequence\n",
    "    sequence_length=len_of_sequence(string)\n",
    "    # printing the length of sequence\n",
    "    print('\\n\\nLength of DNA sequence is: ',sequence_length)\n",
    "        \n",
    "    # computing the gc content\n",
    "    gc=gc_content(string)\n",
    "    # printing the gc content\n",
    "    print('\\nGC Content for the given file is: ',gc)\n",
    "    \n",
    "    \n",
    "    print('\\nBar Plot for count of nucleotides is: ')\n",
    "    # counting the count of nucleotides\n",
    "    count_of_nucleotides=count_nucleotides(string)\n",
    "    \n",
    "    # defining the size for bar plot\n",
    "    fig=plt.figure(figsize=(8,6))\n",
    "    # plotting the bar chart\n",
    "    plt.bar(count_of_nucleotides.keys(),count_of_nucleotides.values())\n",
    "    "
   ]
  },
  {
   "cell_type": "code",
   "execution_count": null,
   "metadata": {},
   "outputs": [],
   "source": []
  },
  {
   "cell_type": "code",
   "execution_count": 146,
   "metadata": {},
   "outputs": [
    {
     "name": "stdout",
     "output_type": "stream",
     "text": [
      "The given text file is invalid.\n",
      "\n",
      "\n",
      "Making the file valid.......\n",
      "\n",
      "\n",
      "Valid file is Generated \n",
      "\n",
      "\n",
      "Length of DNA sequence is:  859\n",
      "\n",
      "GC Content for the given file is:  37.951105937136205\n",
      "\n",
      "Bar Plot for count of nucleotides is: \n"
     ]
    },
    {
     "data": {
      "image/png": "[encoded data removed]",
      "text/plain": [
       "<Figure size 576x432 with 1 Axes>"
      ]
     },
     "metadata": {
      "needs_background": "light"
     },
     "output_type": "display_data"
    }
   ],
   "source": [
    "computeGCFromFASTA(os.path.abspath('desktop/Cancer_branneri_COI_gene.txt'))"
   ]
  },
  {
   "cell_type": "code",
   "execution_count": 147,
   "metadata": {},
   "outputs": [
    {
     "name": "stdout",
     "output_type": "stream",
     "text": [
      "The given text file is invalid.\n",
      "\n",
      "\n",
      "Making the file valid.......\n",
      "\n",
      "\n",
      "Valid file is Generated \n",
      "\n",
      "\n",
      "Length of DNA sequence is:  672\n",
      "\n",
      "GC Content for the given file is:  63.541666666666664\n",
      "\n",
      "Bar Plot for count of nucleotides is: \n"
     ]
    },
    {
     "data": {
      "image/png": "[encoded data removed]",
      "text/plain": [
       "<Figure size 576x432 with 1 Axes>"
      ]
     },
     "metadata": {
      "needs_background": "light"
     },
     "output_type": "display_data"
    }
   ],
   "source": [
    "computeGCFromFASTA(os.path.abspath('desktop/Homo_Sapien_CRIP1.txt'))"
   ]
  },
  {
   "cell_type": "code",
   "execution_count": 148,
   "metadata": {},
   "outputs": [
    {
     "name": "stdout",
     "output_type": "stream",
     "text": [
      "The given text file is invalid.\n",
      "\n",
      "\n",
      "Making the file valid.......\n",
      "\n",
      "\n",
      "Valid file is Generated \n",
      "\n",
      "\n",
      "Length of DNA sequence is:  12565\n",
      "\n",
      "GC Content for the given file is:  64.53641066454438\n",
      "\n",
      "Bar Plot for count of nucleotides is: \n"
     ]
    },
    {
     "data": {
      "image/png": "[encoded data removed]",
      "text/plain": [
       "<Figure size 576x432 with 1 Axes>"
      ]
     },
     "metadata": {
      "needs_background": "light"
     },
     "output_type": "display_data"
    }
   ],
   "source": [
    "computeGCFromFASTA(os.path.abspath('desktop/Homo_Sapien_Insulin.txt'))"
   ]
  },
  {
   "cell_type": "code",
   "execution_count": 149,
   "metadata": {},
   "outputs": [
    {
     "name": "stdout",
     "output_type": "stream",
     "text": [
      "The given text file is invalid.\n",
      "\n",
      "\n",
      "Making the file valid.......\n",
      "\n",
      "\n",
      "Valid file is Generated \n",
      "\n",
      "\n",
      "Length of DNA sequence is:  28973\n",
      "\n",
      "GC Content for the given file is:  38.080281641528316\n",
      "\n",
      "Bar Plot for count of nucleotides is: \n"
     ]
    },
    {
     "data": {
      "image/png": "[encoded data removed]",
      "text/plain": [
       "<Figure size 576x432 with 1 Axes>"
      ]
     },
     "metadata": {
      "needs_background": "light"
     },
     "output_type": "display_data"
    }
   ],
   "source": [
    "computeGCFromFASTA(os.path.abspath('desktop/SARS_Cov2_Surface_Glycoprotein.txt'))"
   ]
  },
  {
   "cell_type": "markdown",
   "metadata": {},
   "source": [
    "# 2. For various biological processes, certain nucleotide strings appear surprisingly often in small regions of the genome. This is often because certain proteins can only bind to DNA if a specific string of nucleotides is present, and if there are more occurrences of the string, then it is more likely that binding will successfully occur. (It is also less likely that a mutation will disrupt the binding process.)\n",
    "\n",
    "# For example, \"ACTAT\" is a surprisingly frequent substring of \"ACAACTATGCATACTATCGGGAACTATCCT\"."
   ]
  },
  {
   "cell_type": "markdown",
   "metadata": {},
   "source": [
    "We use the term k-mer for a string of length k. Write a python function \"PatternCount(Pattern, Text)\" which takes two inputs from the user as follows:<br>\n",
    "i) a k-mer as Pattern<br>\n",
    "ii) and a DNA sequence as Text<br>\n",
    "and outputs the number of times that the k-mer Pattern appears as a substring in Text. Following the above example,\n",
    "\n",
    "PatternCount(\"ACTAT\", \"ACAACTATGCATACTATCGGGAACTATCCT\") = 3.\n",
    "\n",
    "Note that PatternCount(\"ATA\", \"CGATATATCCATAG\") is equal to 3 (not 2) since we should account for overlapping occurrences of Pattern in Text."
   ]
  },
  {
   "cell_type": "code",
   "execution_count": 150,
   "metadata": {},
   "outputs": [],
   "source": [
    "# defining a function counting the count of k-mer pattern in the text\n",
    "def PatternCount(pattern,text):\n",
    "    \n",
    "    # this stores the count of pattern in the text\n",
    "    count=0\n",
    "    \n",
    "    # every element in the text\n",
    "    for i in range(len(text)-len(pattern)+1):\n",
    "        \n",
    "        j=0\n",
    "        # if length of j is less than the pattern\n",
    "        while j<len(pattern):\n",
    "            # if indexes at i+j in text does not matches with indexes at j in the pattern then brek this loop and move forward to next\n",
    "            if text[i+j]!=pattern[j]:\n",
    "                break\n",
    "            j+=1\n",
    "        # if j and length of pattern is equal increment the count and intialize j to 0\n",
    "        if j==len(pattern):\n",
    "            count+=1\n",
    "            j=0\n",
    "    \n",
    "    # returning the count of pattern in the text\n",
    "    return count"
   ]
  },
  {
   "cell_type": "code",
   "execution_count": 151,
   "metadata": {},
   "outputs": [
    {
     "name": "stdout",
     "output_type": "stream",
     "text": [
      "Count is:  3\n"
     ]
    }
   ],
   "source": [
    "# calling the function\n",
    "print('Count is: ',PatternCount(\"ACTAT\", \"ACAACTATGCATACTATCGGGAACTATCCT\"))"
   ]
  },
  {
   "cell_type": "code",
   "execution_count": 152,
   "metadata": {},
   "outputs": [
    {
     "name": "stdout",
     "output_type": "stream",
     "text": [
      "Count is:  3\n"
     ]
    }
   ],
   "source": [
    "# calling the function\n",
    "print('Count is: ',PatternCount(\"ATA\", \"CGATATATCCATAG\"))"
   ]
  },
  {
   "cell_type": "markdown",
   "metadata": {},
   "source": [
    "# Q3. Use the given file \"Mycobacterium_tuberculosis_49-02_complete_genome.txt\" for this.\n",
    "# Write a python function:"
   ]
  },
  {
   "cell_type": "markdown",
   "metadata": {},
   "source": [
    "i) \"translateDNAToAminoAcid()\" which takes as input a FASTA text file and translates the DNA sequence string to sequence of Amino Acids using DNA Codons. Note that it is a comparatively bigger file so no need to print any of the sequences. Store the Amino Acid sequence obtained in a new file \"<Your_name>_Mycobacterium_tuberculosis_protein.txt\"."
   ]
  },
  {
   "cell_type": "code",
   "execution_count": 153,
   "metadata": {},
   "outputs": [],
   "source": [
    "# this is a dictionary of dna_codons\n",
    "dna_codons = {\n",
    "    'TCA' : 'S',    # Serine\n",
    "    'TCC' : 'S',    # Serine\n",
    "    'TCG' : 'S',    # Serine\n",
    "    'TCT' : 'S',    # Serine\n",
    "    'TTC' : 'F',    # Phenylalanine\n",
    "    'TTT' : 'F',    # Phenylalanine\n",
    "    'TTA' : 'L',    # Leucine\n",
    "    'TTG' : 'L',    # Leucine\n",
    "    'TAC' : 'Y',    # Tyrosine\n",
    "    'TAT' : 'Y',    # Tyrosine\n",
    "    'TAA' : '_',    # Stop\n",
    "    'TAG' : '_',    # Stop\n",
    "    'TGC' : 'C',    # Cysteine\n",
    "    'TGT' : 'C',    # Cysteine\n",
    "    'TGA' : '_',    # Stop\n",
    "    'TGG' : 'W',    # Tryptophan\n",
    "    'CTA' : 'L',    # Leucine\n",
    "    'CTC' : 'L',    # Leucine\n",
    "    'CTG' : 'L',    # Leucine\n",
    "    'CTT' : 'L',    # Leucine\n",
    "    'CCA' : 'P',    # Proline\n",
    "    'CCC' : 'P',    # Proline\n",
    "    'CCG' : 'P',    # Proline\n",
    "    'CCT' : 'P',    # Proline\n",
    "    'CAC' : 'H',    # Histidine\n",
    "    'CAT' : 'H',    # Histidine\n",
    "    'CAA' : 'Q',    # Glutamine\n",
    "    'CAG' : 'Q',    # Glutamine\n",
    "    'CGA' : 'R',    # Arginine\n",
    "    'CGC' : 'R',    # Arginine\n",
    "    'CGG' : 'R',    # Arginine\n",
    "    'CGT' : 'R',    # Arginine\n",
    "    'ATA' : 'I',    # Isoleucine\n",
    "    'ATC' : 'I',    # Isoleucine\n",
    "    'ATT' : 'I',    # Isoleucine\n",
    "    'ATG' : 'M',    # Methionine\n",
    "    'ACA' : 'T',    # Threonine\n",
    "    'ACC' : 'T',    # Threonine\n",
    "    'ACG' : 'T',    # Threonine\n",
    "    'ACT' : 'T',    # Threonine\n",
    "    'AAC' : 'N',    # Asparagine\n",
    "    'AAT' : 'N',    # Asparagine\n",
    "    'AAA' : 'K',    # Lysine\n",
    "    'AAG' : 'K',    # Lysine\n",
    "    'AGC' : 'S',    # Serine\n",
    "    'AGT' : 'S',    # Serine\n",
    "    'AGA' : 'R',    # Arginine\n",
    "    'AGG' : 'R',    # Arginine\n",
    "    'GTA' : 'V',    # Valine\n",
    "    'GTC' : 'V',    # Valine\n",
    "    'GTG' : 'V',    # Valine\n",
    "    'GTT' : 'V',    # Valine\n",
    "    'GCA' : 'A',    # Alanine\n",
    "    'GCC' : 'A',    # Alanine\n",
    "    'GCG' : 'A',    # Alanine\n",
    "    'GCT' : 'A',    # Alanine\n",
    "    'GAC' : 'D',    # Aspartic Acid\n",
    "    'GAT' : 'D',    # Aspartic Acid\n",
    "    'GAA' : 'E',    # Glutamic Acid\n",
    "    'GAG' : 'E',    # Glutamic Acid\n",
    "    'GGA' : 'G',    # Glycine\n",
    "    'GGC' : 'G',    # Glycine\n",
    "    'GGG' : 'G',    # Glycine\n",
    "    'GGT' : 'G',    # Glycine\n",
    "    }"
   ]
  },
  {
   "cell_type": "code",
   "execution_count": 161,
   "metadata": {},
   "outputs": [],
   "source": [
    "# translating the cna to amino acids using dna codon table\n",
    "def translateDNAToAminoAcid(path):\n",
    "    \n",
    "    # reading the file from the local computer\n",
    "    with open(path,encoding='utf8') as f:\n",
    "        # creating an empty string which store the sequence from txt file\n",
    "        string=''\n",
    "        # storing the sequence in a string\n",
    "        for i in f:\n",
    "            string+=i\n",
    "    print(len(string))\n",
    "    # checking if string is valid or not\n",
    "    if isvalid(string):\n",
    "        print('The Given text file is valid.')\n",
    "        #print(string)\n",
    "\n",
    "    # if string is not valid making it valid\n",
    "    else:\n",
    "        print('The given text file is invalid.')\n",
    "        print('\\n\\nMaking the file valid.......')\n",
    "        print('\\n\\nValid file is Generated\\n\\n')\n",
    "        string=makevalid(string)\n",
    "        \n",
    "    print(len(string))\n",
    "\n",
    "    pos=0\n",
    "    # this will store the sequence of amino acids computed from the sequence\n",
    "    amino_acids=''\n",
    "    \n",
    "    # iterating in the sequence in a window of 3 nucleotides at a time\n",
    "    for i in range(pos,len(string)-2,3):\n",
    "        # concatenate the amino acids by converting throught he dna_codons\n",
    "        amino_acids+=dna_codons[string[i:i+3]]\n",
    "\n",
    "    print('Printing some amino acids from the file:-')\n",
    "    print(amino_acids[:100])\n",
    "    print(len(amino_acids))\n",
    "    print('\\n\\nA text file is generated at the desired path.....')\n",
    "    # storing the amino acids in a text file\n",
    "    with open('Abhichal_Mycobacterium_tuberculosis_protein.txt','w') as output:\n",
    "        output.write(str(amino_acids))\n",
    "    \n",
    "    \n",
    "    "
   ]
  },
  {
   "cell_type": "code",
   "execution_count": 162,
   "metadata": {},
   "outputs": [
    {
     "name": "stdout",
     "output_type": "stream",
     "text": [
      "4475412\n",
      "The given text file is invalid.\n",
      "\n",
      "\n",
      "Making the file valid.......\n",
      "\n",
      "\n",
      "Valid file is Generated\n",
      "\n",
      "\n",
      "4412379\n",
      "Printing some amino acids from the file:-\n",
      "LTDDPGSGFTTVWNAVVSELNGDPKVDDGPSSDANLSAPLTPQQRAWLNLVQPLTIVEGFALLSVPSSFVQNEIERHLRAPITDALSRRLGHQIQLGVRI\n",
      "1470793\n",
      "\n",
      "\n",
      "A text file is generated at the desired path.....\n"
     ]
    }
   ],
   "source": [
    "# calling the function\n",
    "translateDNAToAminoAcid(os.path.abspath('desktop/Mycobacterium_tuberculosis_49-02_complete_genome.txt'))"
   ]
  },
  {
   "cell_type": "markdown",
   "metadata": {},
   "source": [
    "ii) \"computeAminoAcidFreqency()\" which takes as input the Amino Acid sequence obtained from above function and computes the frequency of each Amino Acid (refer to the DNA codon table given below) and outputs the most frequent Amino Acid.\n"
   ]
  },
  {
   "cell_type": "code",
   "execution_count": 167,
   "metadata": {},
   "outputs": [],
   "source": [
    "def computeAminoAcidFrequency(path):\n",
    "    # reading the file from the local computer\n",
    "    with open(path,encoding='utf8') as f:\n",
    "        # creating an empty string which store the sequence from txt file\n",
    "        string=''\n",
    "        # storing the sequence in a string\n",
    "        for i in f:\n",
    "            string+=i\n",
    "    print(len(string))     \n",
    "    # creating a dictionary which stores the count of different amino acid\n",
    "    count_freq=dict()\n",
    "    \n",
    "    # iterating for every amino_acid in the sequence\n",
    "    for i in string:\n",
    "        # if element preseent in the dictionary increment it\n",
    "        if i in count_freq:\n",
    "            count_freq[i]+=1\n",
    "        # otherwise set it to 1\n",
    "        else:\n",
    "            count_freq[i]=1\n",
    "    \n",
    "    # this will store the most occuring amino acid\n",
    "    aminoacid=''\n",
    "    # we will compare count with the help of this\n",
    "    count=0\n",
    "    print(count_freq)\n",
    "    # for each amino acid\n",
    "    for i in count_freq:\n",
    "        # if the count is greater store it also it should not be equal to '_'\n",
    "        if count_freq[i]>count and i!='_':\n",
    "            count=count_freq[i]\n",
    "            aminoacid=i\n",
    "        \n",
    "    # printing the most frequent amino acid\n",
    "    print('Maximum Frequent Amino Acid is: ',aminoacid,count)"
   ]
  },
  {
   "cell_type": "code",
   "execution_count": 168,
   "metadata": {},
   "outputs": [
    {
     "name": "stdout",
     "output_type": "stream",
     "text": [
      "1470793\n",
      "{'L': 86723, 'T': 86550, 'D': 54039, 'P': 137929, 'G': 134963, 'S': 126459, 'F': 24496, 'V': 86641, 'W': 30376, 'N': 25857, 'A': 168804, 'E': 35983, 'K': 19989, 'Q': 46757, 'R': 215779, 'I': 37636, 'H': 46609, 'Y': 15178, 'M': 16956, 'C': 45129, '_': 27940}\n",
      "Maximum Frequent Amino Acid is:  R 215779\n"
     ]
    }
   ],
   "source": [
    "# calling the function\n",
    "computeAminoAcidFrequency(os.path.abspath('Abhichal_Mycobacterium_tuberculosis_protein.txt'))"
   ]
  },
  {
   "cell_type": "code",
   "execution_count": null,
   "metadata": {},
   "outputs": [],
   "source": []
  }
 ],
 "metadata": {
  "kernelspec": {
   "display_name": "Python 3",
   "language": "python",
   "name": "python3"
  },
  "language_info": {
   "codemirror_mode": {
    "name": "ipython",
    "version": 3
   },
   "file_extension": ".py",
   "mimetype": "text/x-python",
   "name": "python",
   "nbconvert_exporter": "python",
   "pygments_lexer": "ipython3",
   "version": "3.8.6"
  }
 },
 "nbformat": 4,
 "nbformat_minor": 4
}
